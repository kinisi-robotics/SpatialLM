{
 "cells": [
  {
   "cell_type": "code",
   "execution_count": 1,
   "id": "6fbd7426-670e-4e9b-b5a7-937d24236e25",
   "metadata": {},
   "outputs": [
    {
     "name": "stdout",
     "output_type": "stream",
     "text": [
      "Jupyter environment detected. Enabling Open3D WebVisualizer.\n",
      "[Open3D INFO] WebRTC GUI backend enabled.\n",
      "[Open3D INFO] WebRTCWindowSystem: HTTP handshake server disabled.\n"
     ]
    }
   ],
   "source": [
    "import os\n",
    "import numpy as np\n",
    "\n",
    "import open3d as o3d"
   ]
  },
  {
   "cell_type": "code",
   "execution_count": 2,
   "id": "30c9eb2d-59cd-485e-887a-b47262451fbc",
   "metadata": {},
   "outputs": [],
   "source": [
    "def rot_camera_to_world():\n",
    "    \"\"\"\n",
    "    Obtain rotation matrix that translates the camera frame (Z-forward) to world frame (Y-forward, Z-up)\n",
    "    world_y = camera_z\n",
    "    \"\"\"\n",
    "    \n",
    "    theta = -np.pi / 2  # -90 degrees\n",
    "    R_x = np.array([\n",
    "        [1,          0,           0],\n",
    "        [0, np.cos(theta), -np.sin(theta)],\n",
    "        [0, np.sin(theta),  np.cos(theta)]\n",
    "    ])\n",
    "\n",
    "    return R_x"
   ]
  },
  {
   "cell_type": "code",
   "execution_count": 3,
   "id": "3c0c0d27-a529-41a8-97d5-ed3ddfca293f",
   "metadata": {},
   "outputs": [
    {
     "name": "stdout",
     "output_type": "stream",
     "text": [
      "\u001b[1;33m[Open3D WARNING] Read PLY failed: unable to read file: /home/tomek/projects/SpatialLM/pcd/office_with_chairs_from_zed.ply\u001b[0;m\n"
     ]
    },
    {
     "name": "stderr",
     "output_type": "stream",
     "text": [
      "RPly: Error reading 'blue' of 'vertex' number 919441\n"
     ]
    }
   ],
   "source": [
    "pcl_path = os.path.expanduser(\"~/projects/SpatialLM/pcd/office_with_chairs_from_zed.ply\")\n",
    "pcd = o3d.io.read_point_cloud(pcl_path)"
   ]
  },
  {
   "cell_type": "code",
   "execution_count": 4,
   "id": "dfd768aa-e299-435f-b180-404eee3fada4",
   "metadata": {},
   "outputs": [
    {
     "data": {
      "text/plain": [
       "True"
      ]
     },
     "execution_count": 4,
     "metadata": {},
     "output_type": "execute_result"
    }
   ],
   "source": [
    "# Apply the rotation. The 'center' is (0,0,0) here, but can be adjusted if needed.\n",
    "R_x = rot_camera_to_world()\n",
    "pcd.rotate(R_x, center=(0, 0, 0))\n",
    "\n",
    "# Save the transformed point cloud to a new PLY file (now in world coordinates)\n",
    "o3d.io.write_point_cloud(\"output_world.ply\", pcd)"
   ]
  },
  {
   "cell_type": "code",
   "execution_count": 5,
   "id": "05b7d583-5edf-41db-a0b2-f0a0b6b934ac",
   "metadata": {},
   "outputs": [
    {
     "data": {
      "text/plain": [
       "True"
      ]
     },
     "execution_count": 5,
     "metadata": {},
     "output_type": "execute_result"
    }
   ],
   "source": [
    "# Save as .pcd\n",
    "o3d.io.write_point_cloud(pcl_path.replace(\".ply\", \"_rotaed.pcd\"), pcd)"
   ]
  }
 ],
 "metadata": {
  "kernelspec": {
   "display_name": "SpatialLM",
   "language": "python",
   "name": "spatiallm"
  },
  "language_info": {
   "codemirror_mode": {
    "name": "ipython",
    "version": 3
   },
   "file_extension": ".py",
   "mimetype": "text/x-python",
   "name": "python",
   "nbconvert_exporter": "python",
   "pygments_lexer": "ipython3",
   "version": "3.11.11"
  }
 },
 "nbformat": 4,
 "nbformat_minor": 5
}
