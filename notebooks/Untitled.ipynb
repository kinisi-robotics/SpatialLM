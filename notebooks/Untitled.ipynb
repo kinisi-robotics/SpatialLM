{
 "cells": [
  {
   "cell_type": "code",
   "execution_count": 1,
   "id": "ee858082-5c16-4786-9a30-d030c410f79b",
   "metadata": {},
   "outputs": [
    {
     "name": "stdout",
     "output_type": "stream",
     "text": [
      "Requirement already satisfied: PyPDF2 in /home/tomek/miniconda3/envs/spatiallm/lib/python3.11/site-packages (3.0.1)\n",
      "Requirement already satisfied: python-docx in /home/tomek/miniconda3/envs/spatiallm/lib/python3.11/site-packages (1.1.2)\n",
      "Requirement already satisfied: lxml>=3.1.0 in /home/tomek/miniconda3/envs/spatiallm/lib/python3.11/site-packages (from python-docx) (5.3.1)\n",
      "Requirement already satisfied: typing-extensions>=4.9.0 in /home/tomek/miniconda3/envs/spatiallm/lib/python3.11/site-packages (from python-docx) (4.12.2)\n",
      "\u001b[33mWARNING: Error parsing dependencies of spatiallm: Local version label can only be used with `==` or `!=` operators\n",
      "    torch (>=2.4.1+cu124,<3.0.0)\n",
      "           ~~~~~~~^\u001b[0m\u001b[33m\n",
      "\u001b[0m"
     ]
    }
   ],
   "source": [
    "!pip3 install PyPDF2 python-docx"
   ]
  },
  {
   "cell_type": "code",
   "execution_count": 5,
   "id": "7dbfca05-1d58-40c1-89fa-853e6414663c",
   "metadata": {},
   "outputs": [
    {
     "name": "stderr",
     "output_type": "stream",
     "text": [
      "incorrect startxref pointer(3)\n",
      "incorrect startxref pointer(3)\n",
      "incorrect startxref pointer(1)\n",
      "Multiple definitions in dictionary at byte 0x6b5b for key /h.panhfnxbn9i2\n",
      "Multiple definitions in dictionary at byte 0x6b87 for key /h.panhfnxbn9i2\n",
      "Multiple definitions in dictionary at byte 0x6c64 for key /h.xv9ccv31a9ba\n",
      "Multiple definitions in dictionary at byte 0x6dca for key /h.7tx79xemruzr\n",
      "Multiple definitions in dictionary at byte 0x6e24 for key /h.5q3axecmxhle\n",
      "Multiple definitions in dictionary at byte 0x6e7d for key /h.q4ximf5xgh5f\n",
      "Multiple definitions in dictionary at byte 0x6ed5 for key /h.5nywtkgilh2e\n"
     ]
    },
    {
     "name": "stdout",
     "output_type": "stream",
     "text": [
      "Combined PDF created at: /home/tomek/Downloads/devops_resumes/Kinisi DevOps-20250331T150950Z-001/Kinisi DevOps/../combined_resume3.pdf\n"
     ]
    }
   ],
   "source": [
    "import os\n",
    "from PyPDF2 import PdfMerger  # Use PdfFileMerger if using an older PyPDF2 version\n",
    "\n",
    "# Set the base directory where the resumes are located\n",
    "base_dir = \"/home/tomek/Downloads/devops_resumes/Kinisi DevOps-20250331T150950Z-001/Kinisi DevOps\"\n",
    "\n",
    "# List all PDF files in the directory\n",
    "pdf_files = [f for f in os.listdir(base_dir) if f.lower().endswith('.pdf')]\n",
    "\n",
    "# Sort the files alphabetically to ensure a consistent order\n",
    "pdf_files.sort()\n",
    "\n",
    "# Initialize the merger object\n",
    "merger = PdfMerger()\n",
    "\n",
    "# Append each PDF file to the merger\n",
    "for pdf in pdf_files:\n",
    "    pdf_path = os.path.join(base_dir, pdf)\n",
    "    merger.append(pdf_path)\n",
    "\n",
    "# Define the output path for the combined PDF\n",
    "output_path = os.path.join(base_dir, \"..\", \"combined_resume3.pdf\")\n",
    "merger.write(output_path)\n",
    "merger.close()\n",
    "\n",
    "print(f\"Combined PDF created at: {output_path}\")\n"
   ]
  },
  {
   "cell_type": "code",
   "execution_count": null,
   "id": "69446395-5d4e-4fb5-923f-0eba053bb9e8",
   "metadata": {},
   "outputs": [],
   "source": []
  }
 ],
 "metadata": {
  "kernelspec": {
   "display_name": "Conda Base",
   "language": "python",
   "name": "spatiallm"
  },
  "language_info": {
   "codemirror_mode": {
    "name": "ipython",
    "version": 3
   },
   "file_extension": ".py",
   "mimetype": "text/x-python",
   "name": "python",
   "nbconvert_exporter": "python",
   "pygments_lexer": "ipython3",
   "version": "3.12.9"
  }
 },
 "nbformat": 4,
 "nbformat_minor": 5
}
